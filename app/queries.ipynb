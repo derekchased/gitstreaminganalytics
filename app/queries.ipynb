{
 "cells": [
  {
   "cell_type": "code",
   "execution_count": 1,
   "metadata": {},
   "outputs": [],
   "source": [
    "import sqlite3\n",
    "from sqlite3 import Error"
   ]
  },
  {
   "cell_type": "code",
   "execution_count": 2,
   "metadata": {},
   "outputs": [],
   "source": [
    "db = \"gitstream.db\""
   ]
  },
  {
   "cell_type": "code",
   "execution_count": 3,
   "metadata": {},
   "outputs": [],
   "source": [
    "def create_connection(db_file):\n",
    "    \"\"\" create a database connection to the SQLite database\n",
    "        specified by the db_file\n",
    "    :param db_file: database file\n",
    "    :return: Connection object or None\n",
    "    \"\"\"\n",
    "    conn = None\n",
    "    try:\n",
    "        conn = sqlite3.connect(db_file)\n",
    "    except Error as e:\n",
    "        print(e)\n",
    "\n",
    "    return conn"
   ]
  },
  {
   "cell_type": "code",
   "execution_count": 32,
   "metadata": {},
   "outputs": [],
   "source": [
    "def query(conn,sql,limit):\n",
    "    cur = conn.cursor()\n",
    "    cur.execute(sql,(limit,))\n",
    "    rows = cur.fetchall()\n",
    "\n",
    "    for row in rows:\n",
    "        print(row)"
   ]
  },
  {
   "cell_type": "code",
   "execution_count": 36,
   "metadata": {},
   "outputs": [],
   "source": [
    "conn = create_connection(db)"
   ]
  },
  {
   "cell_type": "code",
   "execution_count": 43,
   "metadata": {},
   "outputs": [
    {
     "name": "stdout",
     "output_type": "stream",
     "text": [
      "===========\n",
      "Results Q1:\n",
      "('R', 3)\n",
      "('Python', 3)\n",
      "('lua', 2)\n",
      "('python', 1)\n",
      "('java', 1)\n",
      "===========\n",
      "Results Q2:\n",
      "('aalaada', 140)\n",
      "('rtfa', 140)\n",
      "('e', 50)\n",
      "('gala', 32)\n",
      "('a', 20)\n",
      "===========\n",
      "Results Q3:\n",
      "('Python', 3)\n",
      "('lua', 2)\n",
      "('python', 1)\n",
      "('java', 1)\n",
      "('assa', 1)\n",
      "===========\n",
      "Results Q4:\n",
      "('Python', 2)\n",
      "('python', 1)\n",
      "('lua', 1)\n",
      "('assa', 1)\n",
      "===========\n"
     ]
    }
   ],
   "source": [
    "limit = 5\n",
    "\n",
    "#Q1. What are the top 10 programming languages based on the number of projects developed?\n",
    "sql1 = \"\"\" \n",
    "        SELECT language, count(*) FROM projects \n",
    "        GROUP BY language ORDER BY count(*) DESC \n",
    "        LIMIT ?;  \n",
    "        \"\"\"\n",
    "#Q2. What are the top 10 most frequently updated GitHub projects (i.e., most commits in a project)?\n",
    "sql2 = \"\"\"\n",
    "        SELECT name,commits FROM projects \n",
    "        ORDER BY commits DESC \n",
    "        LIMIT ?;\n",
    "        \"\"\"\n",
    "#Q3. What are the top 10 programming languages that follow the test-driven development\n",
    "#approach (i.e., most projects with unit tests)?\n",
    "sql3 = \"\"\" \n",
    "        SELECT language, count(*) FROM projects \n",
    "        WHERE test>0 GROUP BY language \n",
    "        ORDER BY count(*) DESC LIMIT ?;\n",
    "        \"\"\"\n",
    "#Q4. What are the top 10 programming languages that follow test-driven development and DevOps\n",
    "#approach (i.e., uses continuous integration in the development)?\n",
    "sql4 = \"\"\"\n",
    "        SELECT language, count(*) FROM projects \n",
    "        WHERE test>0 AND cicd>0 GROUP BY language \n",
    "        ORDER BY count(*) DESC LIMIT ?;\n",
    "        \"\"\"\n",
    "\n",
    "with conn:\n",
    "        print(\"===========\")\n",
    "        print(\"Results Q1:\")\n",
    "        query(conn,sql1,limit)\n",
    "        print(\"===========\")\n",
    "        print(\"Results Q2:\")\n",
    "        query(conn,sql2,limit)\n",
    "        print(\"===========\")\n",
    "        print(\"Results Q3:\")\n",
    "        query(conn,sql3,limit)\n",
    "        print(\"===========\")\n",
    "        print(\"Results Q4:\")\n",
    "        query(conn,sql4,limit)\n",
    "        print(\"===========\")"
   ]
  }
 ],
 "metadata": {
  "interpreter": {
   "hash": "31f2aee4e71d21fbe5cf8b01ff0e069b9275f58929596ceb00d14d90e3e16cd6"
  },
  "kernelspec": {
   "display_name": "Python 3.8.5 64-bit",
   "language": "python",
   "name": "python3"
  },
  "language_info": {
   "codemirror_mode": {
    "name": "ipython",
    "version": 3
   },
   "file_extension": ".py",
   "mimetype": "text/x-python",
   "name": "python",
   "nbconvert_exporter": "python",
   "pygments_lexer": "ipython3",
   "version": "3.8.5"
  },
  "orig_nbformat": 4
 },
 "nbformat": 4,
 "nbformat_minor": 2
}
